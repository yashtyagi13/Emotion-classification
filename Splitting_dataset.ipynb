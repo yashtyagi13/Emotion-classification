{
 "cells": [
  {
   "cell_type": "markdown",
   "id": "3fde3623",
   "metadata": {
    "papermill": {
     "duration": 0.007592,
     "end_time": "2023-06-12T14:27:40.112690",
     "exception": false,
     "start_time": "2023-06-12T14:27:40.105098",
     "status": "completed"
    },
    "tags": []
   },
   "source": [
    "## **Importing the necessary libraries**"
   ]
  },
  {
   "cell_type": "code",
   "execution_count": 1,
   "id": "6e6ff236",
   "metadata": {
    "execution": {
     "iopub.execute_input": "2023-06-12T14:27:40.127888Z",
     "iopub.status.busy": "2023-06-12T14:27:40.127459Z",
     "iopub.status.idle": "2023-06-12T14:27:49.034146Z",
     "shell.execute_reply": "2023-06-12T14:27:49.033199Z"
    },
    "papermill": {
     "duration": 8.916902,
     "end_time": "2023-06-12T14:27:49.036568",
     "exception": false,
     "start_time": "2023-06-12T14:27:40.119666",
     "status": "completed"
    },
    "tags": []
   },
   "outputs": [
    {
     "name": "stderr",
     "output_type": "stream",
     "text": [
      "/opt/conda/lib/python3.10/site-packages/tensorflow_io/python/ops/__init__.py:98: UserWarning: unable to load libtensorflow_io_plugins.so: unable to open file: libtensorflow_io_plugins.so, from paths: ['/opt/conda/lib/python3.10/site-packages/tensorflow_io/python/ops/libtensorflow_io_plugins.so']\n",
      "caused by: ['/opt/conda/lib/python3.10/site-packages/tensorflow_io/python/ops/libtensorflow_io_plugins.so: undefined symbol: _ZN3tsl6StatusC1EN10tensorflow5error4CodeESt17basic_string_viewIcSt11char_traitsIcEENS_14SourceLocationE']\n",
      "  warnings.warn(f\"unable to load libtensorflow_io_plugins.so: {e}\")\n",
      "/opt/conda/lib/python3.10/site-packages/tensorflow_io/python/ops/__init__.py:104: UserWarning: file system plugins are not loaded: unable to open file: libtensorflow_io.so, from paths: ['/opt/conda/lib/python3.10/site-packages/tensorflow_io/python/ops/libtensorflow_io.so']\n",
      "caused by: ['/opt/conda/lib/python3.10/site-packages/tensorflow_io/python/ops/libtensorflow_io.so: undefined symbol: _ZTVN10tensorflow13GcsFileSystemE']\n",
      "  warnings.warn(f\"file system plugins are not loaded: {e}\")\n"
     ]
    }
   ],
   "source": [
    "import numpy as np\n",
    "import pandas as pd\n",
    "import tensorflow as tf\n",
    "import matplotlib.pyplot as plt\n",
    "import cv2\n",
    "import os\n",
    "import csv"
   ]
  },
  {
   "cell_type": "code",
   "execution_count": 2,
   "id": "9f21b496",
   "metadata": {
    "execution": {
     "iopub.execute_input": "2023-06-12T14:27:49.047880Z",
     "iopub.status.busy": "2023-06-12T14:27:49.046064Z",
     "iopub.status.idle": "2023-06-12T14:27:50.081425Z",
     "shell.execute_reply": "2023-06-12T14:27:50.080039Z"
    },
    "papermill": {
     "duration": 1.043627,
     "end_time": "2023-06-12T14:27:50.084546",
     "exception": false,
     "start_time": "2023-06-12T14:27:49.040919",
     "status": "completed"
    },
    "tags": []
   },
   "outputs": [
    {
     "name": "stdout",
     "output_type": "stream",
     "text": [
      "\u001b[0m\u001b[01;34mPreprocessed_Frames_VGG-20230612T020317Z-001\u001b[0m/\r\n",
      "\u001b[01;34mPreprocessed_Frames_VGG-20230612T020317Z-002\u001b[0m/\r\n",
      "\u001b[01;34mPreprocessed_Frames_VGG-20230612T020317Z-003\u001b[0m/\r\n",
      "\u001b[01;34mPreprocessed_Frames_VGG-20230612T020317Z-004\u001b[0m/\r\n",
      "\u001b[01;34mPreprocessed_Frames_VGG-20230612T020317Z-005\u001b[0m/\r\n",
      "\u001b[01;34mPreprocessed_Frames_VGG-20230612T020317Z-006\u001b[0m/\r\n",
      "\u001b[01;34mPreprocessed_Frames_VGG-20230612T020317Z-007\u001b[0m/\r\n",
      "\u001b[01;34mPreprocessed_Frames_VGG-20230612T020317Z-008\u001b[0m/\r\n",
      "\u001b[01;34mPreprocessed_Frames_VGG-20230612T020317Z-009\u001b[0m/\r\n",
      "\u001b[01;34mPreprocessed_Frames_VGG-20230612T020317Z-010\u001b[0m/\r\n",
      "\u001b[01;34mPreprocessed_Frames_VGG-20230612T020317Z-011\u001b[0m/\r\n"
     ]
    }
   ],
   "source": [
    "ls /kaggle/input/preprocessed-ravdess-for-vgg"
   ]
  },
  {
   "cell_type": "markdown",
   "id": "7ee538f0",
   "metadata": {
    "papermill": {
     "duration": 0.004444,
     "end_time": "2023-06-12T14:27:50.093998",
     "exception": false,
     "start_time": "2023-06-12T14:27:50.089554",
     "status": "completed"
    },
    "tags": []
   },
   "source": [
    "## Make different CSV files for training and test set"
   ]
  },
  {
   "cell_type": "code",
   "execution_count": 3,
   "id": "d26f489c",
   "metadata": {
    "execution": {
     "iopub.execute_input": "2023-06-12T14:27:50.106697Z",
     "iopub.status.busy": "2023-06-12T14:27:50.105084Z",
     "iopub.status.idle": "2023-06-12T14:27:50.111437Z",
     "shell.execute_reply": "2023-06-12T14:27:50.110429Z"
    },
    "papermill": {
     "duration": 0.014152,
     "end_time": "2023-06-12T14:27:50.113688",
     "exception": false,
     "start_time": "2023-06-12T14:27:50.099536",
     "status": "completed"
    },
    "tags": []
   },
   "outputs": [],
   "source": [
    "# Set the input directory\n",
    "input_dir = \"/kaggle/input/preprocessed-ravdess-for-vgg\"\n",
    "\n",
    "# Set the path of the CSV file\n",
    "male_train = \"/kaggle/working/male_train.csv\"\n",
    "female_train = \"/kaggle/working/female_train.csv\"\n",
    "male_test = \"/kaggle/working/male_test.csv\"\n",
    "female_test = \"/kaggle/working/female_test.csv\""
   ]
  },
  {
   "cell_type": "markdown",
   "id": "00414d62",
   "metadata": {
    "papermill": {
     "duration": 0.003878,
     "end_time": "2023-06-12T14:27:50.121580",
     "exception": false,
     "start_time": "2023-06-12T14:27:50.117702",
     "status": "completed"
    },
    "tags": []
   },
   "source": [
    "### Male training CSV file"
   ]
  },
  {
   "cell_type": "code",
   "execution_count": 4,
   "id": "a25502e7",
   "metadata": {
    "execution": {
     "iopub.execute_input": "2023-06-12T14:27:50.131918Z",
     "iopub.status.busy": "2023-06-12T14:27:50.130486Z",
     "iopub.status.idle": "2023-06-12T14:27:55.610910Z",
     "shell.execute_reply": "2023-06-12T14:27:55.609713Z"
    },
    "papermill": {
     "duration": 5.48767,
     "end_time": "2023-06-12T14:27:55.613312",
     "exception": false,
     "start_time": "2023-06-12T14:27:50.125642",
     "status": "completed"
    },
    "tags": []
   },
   "outputs": [],
   "source": [
    "# Open the CSV file in write mode\n",
    "with open(male_train, mode='w', newline='') as file:\n",
    "    writer = csv.writer(file)\n",
    "    writer.writerow([\"path\", \"emotion\", \"intensity\"])  # Write the header row\n",
    "    \n",
    "    # Iterate through the folders in the input directory\n",
    "    for preprocessed_frames in os.listdir(input_dir):\n",
    "        preprocessed_frames_path = os.path.join(input_dir, preprocessed_frames)\n",
    "        \n",
    "        # Iterate through the folders in the the next folder\n",
    "        for folders in os.listdir(preprocessed_frames_path):\n",
    "            folders_path = os.path.join(preprocessed_frames_path, folders)\n",
    "        \n",
    "            # Iterate through each Actor folder\n",
    "            for actors in os.listdir(folders_path):\n",
    "                actor_path = os.path.join(folders_path,actors)\n",
    "                \n",
    "                x = int(actors.split(\"_\")[1])\n",
    "                \n",
    "                if x%2==1 and x<=20:\n",
    "                    \n",
    "                    #Iterate through each video in actor folders\n",
    "                    for videos in os.listdir(actor_path):\n",
    "                        video_path = os.path.join(actor_path, videos)\n",
    "                        emotion = int(videos.split(\"-\")[2])\n",
    "                        intensity = int(videos.split(\"-\")[3])\n",
    "                        \n",
    "                        # Iterate through the frames\n",
    "                        for frame in os.listdir(video_path):\n",
    "                            frame_path = os.path.join(video_path, frame)\n",
    "                \n",
    "                            # Write the row to the CSV file\n",
    "                            writer.writerow([frame_path, emotion, intensity])"
   ]
  },
  {
   "cell_type": "markdown",
   "id": "ee07fe24",
   "metadata": {
    "papermill": {
     "duration": 0.003812,
     "end_time": "2023-06-12T14:27:55.621573",
     "exception": false,
     "start_time": "2023-06-12T14:27:55.617761",
     "status": "completed"
    },
    "tags": []
   },
   "source": [
    "### Female training CSV file"
   ]
  },
  {
   "cell_type": "code",
   "execution_count": 5,
   "id": "4758f048",
   "metadata": {
    "execution": {
     "iopub.execute_input": "2023-06-12T14:27:55.631182Z",
     "iopub.status.busy": "2023-06-12T14:27:55.630315Z",
     "iopub.status.idle": "2023-06-12T14:28:01.723967Z",
     "shell.execute_reply": "2023-06-12T14:28:01.722881Z"
    },
    "papermill": {
     "duration": 6.101016,
     "end_time": "2023-06-12T14:28:01.726514",
     "exception": false,
     "start_time": "2023-06-12T14:27:55.625498",
     "status": "completed"
    },
    "tags": []
   },
   "outputs": [],
   "source": [
    "# Open the CSV file in write mode\n",
    "with open(female_train, mode='w', newline='') as file:\n",
    "    writer = csv.writer(file)\n",
    "    writer.writerow([\"path\", \"emotion\", \"intensity\"])  # Write the header row\n",
    "    \n",
    "    # Iterate through the folders in the input directory\n",
    "    for preprocessed_frames in os.listdir(input_dir):\n",
    "        preprocessed_frames_path = os.path.join(input_dir, preprocessed_frames)\n",
    "        \n",
    "        # Iterate through the folders in the the next folder\n",
    "        for folders in os.listdir(preprocessed_frames_path):\n",
    "            folders_path = os.path.join(preprocessed_frames_path, folders)\n",
    "        \n",
    "            # Iterate through each Actor folder\n",
    "            for actors in os.listdir(folders_path):\n",
    "                actor_path = os.path.join(folders_path,actors)\n",
    "                \n",
    "                x = int(actors.split(\"_\")[1])\n",
    "                \n",
    "                if x%2==0 and x<=20:\n",
    "                    \n",
    "                    #Iterate through each video in actor folders\n",
    "                    for videos in os.listdir(actor_path):\n",
    "                        video_path = os.path.join(actor_path, videos)\n",
    "                        emotion = int(videos.split(\"-\")[2])\n",
    "                        intensity = int(videos.split(\"-\")[3])\n",
    "                        \n",
    "                        # Iterate through the frames\n",
    "                        for frame in os.listdir(video_path):\n",
    "                            frame_path = os.path.join(video_path, frame)\n",
    "                \n",
    "                            # Write the row to the CSV file\n",
    "                            writer.writerow([frame_path, emotion, intensity])"
   ]
  },
  {
   "cell_type": "markdown",
   "id": "907b75b5",
   "metadata": {
    "papermill": {
     "duration": 0.004179,
     "end_time": "2023-06-12T14:28:01.734938",
     "exception": false,
     "start_time": "2023-06-12T14:28:01.730759",
     "status": "completed"
    },
    "tags": []
   },
   "source": [
    "### Male Test CSV file"
   ]
  },
  {
   "cell_type": "code",
   "execution_count": 6,
   "id": "bd59f49e",
   "metadata": {
    "execution": {
     "iopub.execute_input": "2023-06-12T14:28:01.745801Z",
     "iopub.status.busy": "2023-06-12T14:28:01.744081Z",
     "iopub.status.idle": "2023-06-12T14:28:03.480918Z",
     "shell.execute_reply": "2023-06-12T14:28:03.479958Z"
    },
    "papermill": {
     "duration": 1.744355,
     "end_time": "2023-06-12T14:28:03.483325",
     "exception": false,
     "start_time": "2023-06-12T14:28:01.738970",
     "status": "completed"
    },
    "tags": []
   },
   "outputs": [],
   "source": [
    "# Open the CSV file in write mode\n",
    "with open(male_test, mode='w', newline='') as file:\n",
    "    writer = csv.writer(file)\n",
    "    writer.writerow([\"path\", \"emotion\", \"intensity\"])  # Write the header row\n",
    "    \n",
    "    # Iterate through the folders in the input directory\n",
    "    for preprocessed_frames in os.listdir(input_dir):\n",
    "        preprocessed_frames_path = os.path.join(input_dir, preprocessed_frames)\n",
    "        \n",
    "        # Iterate through the folders in the the next folder\n",
    "        for folders in os.listdir(preprocessed_frames_path):\n",
    "            folders_path = os.path.join(preprocessed_frames_path, folders)\n",
    "        \n",
    "            # Iterate through each Actor folder\n",
    "            for actors in os.listdir(folders_path):\n",
    "                actor_path = os.path.join(folders_path,actors)\n",
    "                \n",
    "                x = int(actors.split(\"_\")[1])\n",
    "                \n",
    "                if x%2==1 and x>20:\n",
    "                    \n",
    "                    #Iterate through each video in actor folders\n",
    "                    for videos in os.listdir(actor_path):\n",
    "                        video_path = os.path.join(actor_path, videos)\n",
    "                        emotion = int(videos.split(\"-\")[2])\n",
    "                        intensity = int(videos.split(\"-\")[3])\n",
    "                        \n",
    "                        # Iterate through the frames\n",
    "                        for frame in os.listdir(video_path):\n",
    "                            frame_path = os.path.join(video_path, frame)\n",
    "                \n",
    "                            # Write the row to the CSV file\n",
    "                            writer.writerow([frame_path, emotion, intensity])"
   ]
  },
  {
   "cell_type": "markdown",
   "id": "75b62e60",
   "metadata": {
    "papermill": {
     "duration": 0.003884,
     "end_time": "2023-06-12T14:28:03.491497",
     "exception": false,
     "start_time": "2023-06-12T14:28:03.487613",
     "status": "completed"
    },
    "tags": []
   },
   "source": [
    "### Female Test CSV file"
   ]
  },
  {
   "cell_type": "code",
   "execution_count": 7,
   "id": "7df76bb8",
   "metadata": {
    "execution": {
     "iopub.execute_input": "2023-06-12T14:28:03.501028Z",
     "iopub.status.busy": "2023-06-12T14:28:03.500735Z",
     "iopub.status.idle": "2023-06-12T14:28:04.831460Z",
     "shell.execute_reply": "2023-06-12T14:28:04.830529Z"
    },
    "papermill": {
     "duration": 1.338448,
     "end_time": "2023-06-12T14:28:04.834239",
     "exception": false,
     "start_time": "2023-06-12T14:28:03.495791",
     "status": "completed"
    },
    "tags": []
   },
   "outputs": [],
   "source": [
    "# Open the CSV file in write mode\n",
    "with open(female_test, mode='w', newline='') as file:\n",
    "    writer = csv.writer(file)\n",
    "    writer.writerow([\"path\", \"emotion\", \"intensity\"])  # Write the header row\n",
    "    \n",
    "    # Iterate through the folders in the input directory\n",
    "    for preprocessed_frames in os.listdir(input_dir):\n",
    "        preprocessed_frames_path = os.path.join(input_dir, preprocessed_frames)\n",
    "        \n",
    "        # Iterate through the folders in the the next folder\n",
    "        for folders in os.listdir(preprocessed_frames_path):\n",
    "            folders_path = os.path.join(preprocessed_frames_path, folders)\n",
    "        \n",
    "            # Iterate through each Actor folder\n",
    "            for actors in os.listdir(folders_path):\n",
    "                actor_path = os.path.join(folders_path,actors)\n",
    "                \n",
    "                x = int(actors.split(\"_\")[1])\n",
    "                \n",
    "                if x%2==0 and x>20:\n",
    "                    \n",
    "                    #Iterate through each video in actor folders\n",
    "                    for videos in os.listdir(actor_path):\n",
    "                        video_path = os.path.join(actor_path, videos)\n",
    "                        emotion = int(videos.split(\"-\")[2])\n",
    "                        intensity = int(videos.split(\"-\")[3])\n",
    "                        \n",
    "                        # Iterate through the frames\n",
    "                        for frame in os.listdir(video_path):\n",
    "                            frame_path = os.path.join(video_path, frame)\n",
    "                \n",
    "                            # Write the row to the CSV file\n",
    "                            writer.writerow([frame_path, emotion, intensity])"
   ]
  },
  {
   "cell_type": "code",
   "execution_count": null,
   "id": "ec55fcc3",
   "metadata": {
    "papermill": {
     "duration": 0.003863,
     "end_time": "2023-06-12T14:28:04.842573",
     "exception": false,
     "start_time": "2023-06-12T14:28:04.838710",
     "status": "completed"
    },
    "tags": []
   },
   "outputs": [],
   "source": []
  }
 ],
 "metadata": {
  "kernelspec": {
   "display_name": "Python 3",
   "language": "python",
   "name": "python3"
  },
  "language_info": {
   "codemirror_mode": {
    "name": "ipython",
    "version": 3
   },
   "file_extension": ".py",
   "mimetype": "text/x-python",
   "name": "python",
   "nbconvert_exporter": "python",
   "pygments_lexer": "ipython3",
   "version": "3.10.10"
  },
  "papermill": {
   "default_parameters": {},
   "duration": 38.853619,
   "end_time": "2023-06-12T14:28:07.602175",
   "environment_variables": {},
   "exception": null,
   "input_path": "__notebook__.ipynb",
   "output_path": "__notebook__.ipynb",
   "parameters": {},
   "start_time": "2023-06-12T14:27:28.748556",
   "version": "2.4.0"
  }
 },
 "nbformat": 4,
 "nbformat_minor": 5
}
