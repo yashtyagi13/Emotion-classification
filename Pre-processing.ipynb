{
  "nbformat": 4,
  "nbformat_minor": 0,
  "metadata": {
    "colab": {
      "provenance": [],
      "authorship_tag": "ABX9TyMCYlk8lYLjMWm7DJUQ1ZA9",
      "include_colab_link": true
    },
    "kernelspec": {
      "name": "python3",
      "display_name": "Python 3"
    },
    "language_info": {
      "name": "python"
    },
    "accelerator": "TPU"
  },
  "cells": [
    {
      "cell_type": "markdown",
      "metadata": {
        "id": "view-in-github",
        "colab_type": "text"
      },
      "source": [
        "<a href=\"https://colab.research.google.com/github/heartzhacker/Emotion-classification/blob/main/Pre-processing.ipynb\" target=\"_parent\"><img src=\"https://colab.research.google.com/assets/colab-badge.svg\" alt=\"Open In Colab\"/></a>"
      ]
    },
    {
      "cell_type": "markdown",
      "source": [
        "#**Pre-processing the Data**"
      ],
      "metadata": {
        "id": "2XtU3cseksnS"
      }
    },
    {
      "cell_type": "markdown",
      "source": [
        "##Importing the necessary libraries and connecting to Google Drive"
      ],
      "metadata": {
        "id": "SBRGq7kokf-k"
      }
    },
    {
      "cell_type": "code",
      "execution_count": null,
      "metadata": {
        "id": "BTHT7n5DQ6uZ"
      },
      "outputs": [],
      "source": [
        "import numpy as np\n",
        "import pandas as pd\n",
        "import tensorflow as tf\n",
        "import matplotlib.pyplot as plt\n",
        "import cv2\n",
        "import os\n",
        "import zipfile"
      ]
    },
    {
      "cell_type": "code",
      "source": [
        "from google.colab import drive\n",
        "drive.mount('/content/drive')"
      ],
      "metadata": {
        "colab": {
          "base_uri": "https://localhost:8080/"
        },
        "id": "DZr7fY7GQ_-K",
        "outputId": "35395310-6676-4bcb-9a97-30c148a81926"
      },
      "execution_count": null,
      "outputs": [
        {
          "output_type": "stream",
          "name": "stdout",
          "text": [
            "Mounted at /content/drive\n"
          ]
        }
      ]
    },
    {
      "cell_type": "code",
      "source": [
        "local_data_folder = \"/content\"\n",
        "os.makedirs(local_data_folder, exist_ok=True)"
      ],
      "metadata": {
        "id": "h9BsQn6YRrRJ"
      },
      "execution_count": null,
      "outputs": []
    },
    {
      "cell_type": "markdown",
      "source": [
        "##Extracting the **RAVDESS** dataset in Colab"
      ],
      "metadata": {
        "id": "ueG2NJ9ekhra"
      }
    },
    {
      "cell_type": "code",
      "source": [
        "data_zip_file = \"/content/drive/MyDrive/data.zip\"\n",
        "\n",
        "with zipfile.ZipFile(data_zip_file, 'r') as zip_ref:\n",
        "    zip_ref.extractall(local_data_folder)"
      ],
      "metadata": {
        "id": "wlDijqoMRvNN"
      },
      "execution_count": null,
      "outputs": []
    },
    {
      "cell_type": "markdown",
      "source": [
        "##Converting each file into Frames with target as 10 Frames per second"
      ],
      "metadata": {
        "id": "FE3itHw3kiej"
      }
    },
    {
      "cell_type": "code",
      "source": [
        "def extract_frames(video_path, output_folder, target_fps=20):\n",
        "    # Open the video file\n",
        "    cap = cv2.VideoCapture(video_path)\n",
        "    \n",
        "    # Get the original frames per second (fps) of the video\n",
        "    video_fps = int(cap.get(cv2.CAP_PROP_FPS))\n",
        "    \n",
        "    # Get the total frame count of the video\n",
        "    frame_count = int(cap.get(cv2.CAP_PROP_FRAME_COUNT))\n",
        "    \n",
        "    # Calculate the frame interval based on the target fps\n",
        "    every_nth_frame = video_fps // target_fps\n",
        "\n",
        "    # Create the output folder if it doesn't exist\n",
        "    os.makedirs(output_folder, exist_ok=True)\n",
        "\n",
        "    # Initialize frame counters\n",
        "    frame_number = 0\n",
        "    extracted_frames = 0\n",
        "    \n",
        "    # Iterate through each frame in the video\n",
        "    while cap.isOpened():\n",
        "        # Read the next frame\n",
        "        ret, frame = cap.read()\n",
        "        \n",
        "        # Break the loop if the frame cannot be read\n",
        "        if not ret:\n",
        "            break\n",
        "\n",
        "        # Extract frames at the specified interval\n",
        "        if frame_number % every_nth_frame == 0:\n",
        "            # Save the extracted frame as an image file\n",
        "            frame_file = os.path.join(output_folder, f\"frame{extracted_frames:04d}.png\")\n",
        "            cv2.imwrite(frame_file, frame)\n",
        "            \n",
        "            # Increment the frame counter\n",
        "            extracted_frames += 1\n",
        "\n",
        "        # Increment the frame number\n",
        "        frame_number += 1\n",
        "\n",
        "    # Release the video capture object\n",
        "    cap.release()\n",
        "\n",
        "# Set the paths for the input data folder and the output base folder\n",
        "data_folder = \"/content/data\"\n",
        "output_base_folder = \"/content/Output_RAVDESS\"\n",
        "\n",
        "# Iterate through each actor\n",
        "for actor in range(1, 25):\n",
        "    # Generate the actor folder name\n",
        "    actor_folder = f\"Actor_{actor:02d}\"\n",
        "    \n",
        "    # Define the paths for the actor's data folder and output folder\n",
        "    actor_data_folder = os.path.join(data_folder, actor_folder)\n",
        "    actor_output_folder = os.path.join(output_base_folder, actor_folder)\n",
        "\n",
        "    # Get the list of files in the actor's data folder\n",
        "    file_list = os.listdir(actor_data_folder)\n",
        "\n",
        "    # Iterate through each file in the actor's data folder\n",
        "    for file in file_list:\n",
        "        # Process only video files with the .mp4 extension\n",
        "        if file.endswith(\".mp4\"):\n",
        "            # Define the path for the input video file\n",
        "            video_path = os.path.join(actor_data_folder, file)\n",
        "            \n",
        "            # Define the output folder for the extracted frames\n",
        "            video_output_folder = os.path.join(actor_output_folder, os.path.splitext(file)[0])\n",
        "            \n",
        "            # Extract frames from the video and save them in the output folder\n",
        "            extract_frames(video_path, video_output_folder, target_fps=10)\n"
      ],
      "metadata": {
        "id": "-cKSwCqvRw7D"
      },
      "execution_count": null,
      "outputs": []
    },
    {
      "cell_type": "markdown",
      "source": [
        "saving the output file to drive for future references"
      ],
      "metadata": {
        "id": "qfsYDoy4kjlz"
      }
    },
    {
      "cell_type": "code",
      "source": [
        "!zip -r /content/drive/MyDrive/Output.zip /content/Output_RAVDESS"
      ],
      "metadata": {
        "id": "vDpmf9d_h1vR"
      },
      "execution_count": null,
      "outputs": []
    },
    {
      "cell_type": "markdown",
      "source": [
        "##Resizing each frame to (224,224) as required for VGG model"
      ],
      "metadata": {
        "id": "Jqfb_PiKklli"
      }
    },
    {
      "cell_type": "code",
      "source": [
        "import cv2\n",
        "import os\n",
        "\n",
        "input_dir = \"Output_RAVDESS\"\n",
        "output_dir = \"Preprocessed_Frames\"\n",
        "\n",
        "# Create the output directory if it doesn't exist\n",
        "os.makedirs(output_dir, exist_ok=True)\n",
        "\n",
        "# Iterate through the folders in the input directory\n",
        "for actor_folder in os.listdir(input_dir):\n",
        "    actor_path = os.path.join(input_dir, actor_folder)\n",
        "\n",
        "    # Iterate through the videos in the actor's folder\n",
        "    for video in os.listdir(actor_path):\n",
        "        video_path = os.path.join(actor_path, video)\n",
        "\n",
        "        # Iterate through the frames in the video's folder\n",
        "        for frame in os.listdir(video_path):\n",
        "          frame_path = os.path.join(video_path, frame)\n",
        "\n",
        "          # Load the image using OpenCV\n",
        "          image = cv2.imread(frame_path)\n",
        "\n",
        "          # Check if the image is loaded successfully\n",
        "          if image is not None:\n",
        "              # Apply preprocessing steps to the image\n",
        "              # For example, resize the image to a specific size\n",
        "              resized_image = cv2.resize(image, (224, 224))  # Adjust the size as needed\n",
        "\n",
        "              # Save the preprocessed image to the output directory\n",
        "              output_path = os.path.join(output_dir, actor_folder,video, frame)\n",
        "              os.makedirs(os.path.dirname(output_path), exist_ok=True)\n",
        "              cv2.imwrite(output_path, resized_image)\n",
        "          else:\n",
        "              print(\"Error loading image:\", frame_path)\n",
        "        "
      ],
      "metadata": {
        "id": "6StKQR7aIeks"
      },
      "execution_count": null,
      "outputs": []
    },
    {
      "cell_type": "markdown",
      "source": [
        "##Processing the input using Tensorflow and making the Data ready for VGG16 model"
      ],
      "metadata": {
        "id": "zIHEsPbTkmYC"
      }
    },
    {
      "cell_type": "code",
      "source": [
        "from tensorflow.keras.applications.vgg16 import preprocess_input\n",
        "\n",
        "input_dir = \"Preprocessed_Frames\"\n",
        "output_dir = \"Preprocessed_Frames_VGG\"\n",
        "\n",
        "# Create the output directory if it doesn't exist\n",
        "os.makedirs(output_dir, exist_ok=True)\n",
        "\n",
        "# Define batch size for processing multiple frames at once\n",
        "batch_size = 16\n",
        "\n",
        "# Initialize empty lists for frames and corresponding paths\n",
        "frames_list = []\n",
        "frame_paths_list = []\n",
        "\n",
        "# Iterate through the folders in the input directory\n",
        "for actor_folder in os.listdir(input_dir):\n",
        "    actor_path = os.path.join(input_dir, actor_folder)\n",
        "    \n",
        "    # Create the corresponding actor folder in the output directory\n",
        "    output_actor_folder = os.path.join(output_dir, actor_folder)\n",
        "    os.makedirs(output_actor_folder, exist_ok=True)\n",
        "    \n",
        "    # Iterate through the videos in the actor's folder\n",
        "    for subfolder in os.listdir(actor_path):\n",
        "        subfolder_path = os.path.join(actor_path, subfolder)\n",
        "        \n",
        "        # Create the corresponding subfolder in the output directory\n",
        "        output_subfolder = os.path.join(output_actor_folder, subfolder)\n",
        "        os.makedirs(output_subfolder, exist_ok=True)\n",
        "        \n",
        "        # Iterate through the frames in each subfolder\n",
        "        for frame in os.listdir(subfolder_path):\n",
        "            frame_path = os.path.join(subfolder_path, frame)\n",
        "            \n",
        "            # Append frame and frame path to the respective lists\n",
        "            frames_list.append(cv2.imread(frame_path))\n",
        "            frame_paths_list.append(frame_path)\n",
        "            \n",
        "            # Perform batch processing when the number of frames reaches the batch size\n",
        "            if len(frames_list) == batch_size:\n",
        "                # Convert frames list to a NumPy array\n",
        "                frames_array = np.array(frames_list)\n",
        "                \n",
        "                # Preprocess the frames\n",
        "                preprocessed_frames = preprocess_input(frames_array)\n",
        "                \n",
        "                # Save the preprocessed frames to the output directory\n",
        "                for i, output_frame in enumerate(preprocessed_frames):\n",
        "                    output_path = os.path.join(output_subfolder, os.path.basename(frame_paths_list[i]))\n",
        "                    np.save(output_path, output_frame)\n",
        "                \n",
        "                # Clear the lists for the next batch\n",
        "                frames_list.clear()\n",
        "                frame_paths_list.clear()\n",
        "        \n",
        "        # Process the remaining frames that are less than the batch size\n",
        "        if frames_list:\n",
        "            # Convert frames list to a NumPy array\n",
        "            frames_array = np.array(frames_list)\n",
        "            \n",
        "            # Preprocess the frames\n",
        "            preprocessed_frames = preprocess_input(frames_array)\n",
        "            \n",
        "            # Save the preprocessed frames to the output directory\n",
        "            for i, output_frame in enumerate(preprocessed_frames):\n",
        "                output_path = os.path.join(output_subfolder, os.path.basename(frame_paths_list[i]))\n",
        "                np.save(output_path, output_frame)\n",
        "            \n",
        "            # Clear the lists after processing\n",
        "            frames_list.clear()\n",
        "            frame_paths_list.clear()\n",
        "\n",
        "# Process any remaining frames in the lists after iterating through all subfolders\n",
        "if frames_list:\n",
        "    # Convert frames list to a NumPy array\n",
        "    frames_array = np.array(frames_list)\n",
        "    \n",
        "    # Preprocess the frames\n",
        "    preprocessed_frames = preprocess_input(frames_array)\n",
        "    \n",
        "    # Save the preprocessed frames to the output directory\n",
        "    for i, output_frame in enumerate(preprocessed_frames):\n",
        "        output_path = os.path.join(output_subfolder, os.path.basename(frame_paths_list[i]))\n",
        "        np.save(output_path, output_frame)\n"
      ],
      "metadata": {
        "id": "bPWiyCU5lQgl"
      },
      "execution_count": null,
      "outputs": []
    },
    {
      "cell_type": "code",
      "source": [],
      "metadata": {
        "id": "d3dUqGYevkZx"
      },
      "execution_count": null,
      "outputs": []
    }
  ]
}